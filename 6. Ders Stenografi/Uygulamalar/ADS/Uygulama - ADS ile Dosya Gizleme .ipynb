{
 "cells": [
  {
   "cell_type": "markdown",
   "metadata": {},
   "source": [
    "## AMAÇ :"
   ]
  },
  {
   "cell_type": "markdown",
   "metadata": {},
   "source": [
    "Bu uygulamanın amacı kişiye ADS (Alternate Data Streams)yöntemi ile dosya sistemi içersinde belge gizleme hakkında bilgilendirmketir."
   ]
  },
  {
   "cell_type": "markdown",
   "metadata": {},
   "source": [
    "## SÜRE : "
   ]
  },
  {
   "cell_type": "markdown",
   "metadata": {},
   "source": [
    "5 dakika"
   ]
  },
  {
   "cell_type": "markdown",
   "metadata": {},
   "source": [
    "## ÖNBİLGİ :"
   ]
  },
  {
   "cell_type": "markdown",
   "metadata": {},
   "source": [
    "Mac dosya sistemi HFS (Hierarchical File System) dosyayı ikiye bölerek, dosyanın kendisini ve ayarlarını farklı iki dosya içerisinde tutar. Bu yötemde dosya metadata bilgileri, ADS (Alternate Data Streams)olarak tutulur. Böylece dosya ayarları, dosya sistemi içerisinde ikinci bir gizli dosya içerisinde tutulmuş olur. Bu teknik kullanılarak bir dosya için sınırsız sayıda ve boyutta farklı dosya bağlantıları oluşturulabilir. Sadece metin dosyaları değil, ses, görüntü ve çalıştırılabilir dosyalar içinde bağlantılar oluşturulabilir."
   ]
  },
  {
   "cell_type": "code",
   "execution_count": null,
   "metadata": {
    "collapsed": false
   },
   "outputs": [],
   "source": []
  },
  {
   "cell_type": "markdown",
   "metadata": {},
   "source": [
    "Microsoft dosya sistemi NTFS (New Technology File System), Mac HFS (Hierarchical File System) uyumluluk gösterdiği için, bu yöntem windows dosya sistemi içerisinde desteklenmektedir. Bu yöntem zararlı kodlar tarafından windows içerisinde dosya gizleme yöntemi olarak kullanılmaktadır. Bununla birlikte Windows işletim sistemi tarafından ADS görüntülemek için herhangi bir komut yada program yoktur. Bazı harici programlar yardımıyla windows içerisinde gizlenmiş bu tür bağlantılar bulunabilmektedir."
   ]
  },
  {
   "cell_type": "markdown",
   "metadata": {},
   "source": [
    "Bu yöntem sayesinde 1 kb’lık bir metin belgesinin içerisine boyutunu kesinlikle değiştirmeden 100′lerce megabyte veri saklamak mümkündür. Çünkü saklanan dosya orjinal dosyadan bağımsız olarak dosya sistemi içerisinde tutulmaktadır. Bununla birlikte dosyalar herhangi bir fat32 sisteme taşınırsa gizli dosyalar kaybolacaktır.\n",
    "\n",
    "Sistem üzerinde normal dosya silindiğinde gizli dosyada silinecektir. Bununla birlikte normal dosyayı silmeden gizli dosyayı silmekte mümkündür. Gizli dosya oluşturabilmek için illaki normal bir dosyaya ihtiyacımız yoktur. Herhangi bir klasör altında hangi klasörde oluşturduğumuzu bilmek kaydıyla (daha sonra geri dönüştürebilmek için) gizli dosya oluşturulabilir. \n"
   ]
  },
  {
   "cell_type": "markdown",
   "metadata": {},
   "source": [
    "## UYGULAMA :"
   ]
  },
  {
   "cell_type": "markdown",
   "metadata": {},
   "source": [
    "### A. Uygulama öncesi yapılacaklar :"
   ]
  },
  {
   "cell_type": "markdown",
   "metadata": {},
   "source": [
    "### B. Uygulamanın Yapılışı:"
   ]
  },
  {
   "cell_type": "markdown",
   "metadata": {},
   "source": [
    "#### a. Aşağıda tanımlı komutunu kullanarak bir text doküman oluşturun ve içine gizlemek istediğiniz herhangi bir bilgi yazıp kaydedin."
   ]
  },
  {
   "cell_type": "code",
   "execution_count": 2,
   "metadata": {
    "collapsed": true
   },
   "outputs": [],
   "source": [
    "! echo \"Gizleyecek bir şeyim yok.\" > belge.txt "
   ]
  },
  {
   "cell_type": "code",
   "execution_count": 3,
   "metadata": {
    "collapsed": false
   },
   "outputs": [
    {
     "name": "stdout",
     "output_type": "stream",
     "text": [
      "\"Gizleyecek bir Ÿeyim yok.\"  \n"
     ]
    }
   ],
   "source": [
    "! type belge.txt "
   ]
  },
  {
   "cell_type": "markdown",
   "metadata": {},
   "source": [
    "#### b. Aşağıda tanımlı komutunu kullanarak oluşturduğunuz dosyanın boyutunu öğrenin."
   ]
  },
  {
   "cell_type": "code",
   "execution_count": 4,
   "metadata": {
    "collapsed": false
   },
   "outputs": [
    {
     "name": "stdout",
     "output_type": "stream",
     "text": [
      " Volume in drive C is WINDOWS\n",
      " Volume Serial Number is 78BB-5711\n",
      "\n",
      " Directory of C:\\Users\\User\n",
      "\n",
      "13.12.2016  19:21                31 belge.txt\n",
      "               1 File(s)             31 bytes\n",
      "               0 Dir(s)  47.502.987.264 bytes free\n"
     ]
    }
   ],
   "source": [
    "! dir belge.txt"
   ]
  },
  {
   "cell_type": "markdown",
   "metadata": {},
   "source": [
    "#### c. Aşağıda tanımlı komutunu kullanarak gizlibelge.txt dosyası oluşturup belge.txt'yi kullanarak dosya sistemi içerisinde gizleyin."
   ]
  },
  {
   "cell_type": "code",
   "execution_count": 5,
   "metadata": {
    "collapsed": true
   },
   "outputs": [],
   "source": [
    "! echo \"Gizli bilgi : pa$$W0rd\" > belge.txt:gizlibelge.txt"
   ]
  },
  {
   "cell_type": "markdown",
   "metadata": {},
   "source": [
    "#### d. Aşağıda tanımlı komutları kullanarak klasörde gizlibelge.txt dosyasının oluşturulup oluşturulmadığını ve belge.txt dosyasının boyutunda değişiklik olup olmadığını kontrol edin. \n",
    "\n",
    "#### Klasör seçeneklerinden gizli dosyaları ve sistem korunan dosyalarını görünür hale getirin ve gizlibelge.txt dosyasının görünürlüğünü kontrol edin."
   ]
  },
  {
   "cell_type": "code",
   "execution_count": 6,
   "metadata": {
    "collapsed": false
   },
   "outputs": [
    {
     "name": "stdout",
     "output_type": "stream",
     "text": [
      "\"Gizleyecek bir Ÿeyim yok.\"  \n"
     ]
    }
   ],
   "source": [
    "! type belge.txt"
   ]
  },
  {
   "cell_type": "code",
   "execution_count": 7,
   "metadata": {
    "collapsed": false
   },
   "outputs": [
    {
     "name": "stderr",
     "output_type": "stream",
     "text": [
      "Sistem belirtilen dosyay� bulam�yor.\n"
     ]
    }
   ],
   "source": [
    "! type gizlibelge.txt"
   ]
  },
  {
   "cell_type": "code",
   "execution_count": 8,
   "metadata": {
    "collapsed": false
   },
   "outputs": [
    {
     "name": "stdout",
     "output_type": "stream",
     "text": [
      " Volume in drive C is WINDOWS\n",
      " Volume Serial Number is 78BB-5711\n",
      "\n",
      " Directory of C:\\Users\\User\n",
      "\n",
      "13.12.2016  19:21                31 belge.txt\n",
      "               1 File(s)             31 bytes\n",
      "               0 Dir(s)  47.502.856.192 bytes free\n"
     ]
    }
   ],
   "source": [
    "! dir belge.txt"
   ]
  },
  {
   "cell_type": "markdown",
   "metadata": {},
   "source": [
    "#### e. Aşağıda tanımlı komutları kullanarak gizli belgenin içeriğini görüntüleyin."
   ]
  },
  {
   "cell_type": "code",
   "execution_count": 9,
   "metadata": {
    "collapsed": false
   },
   "outputs": [
    {
     "name": "stderr",
     "output_type": "stream",
     "text": [
      "Dosya ad�, dizin ad� veya birim etiketi s”zdizimi hatal�.\n"
     ]
    }
   ],
   "source": [
    "! type belge.txt:gizlibelge.txt"
   ]
  },
  {
   "cell_type": "code",
   "execution_count": 10,
   "metadata": {
    "collapsed": true
   },
   "outputs": [],
   "source": [
    "! %windir%\\system32\\notepad.exe belge.txt:gizlibelge.txt"
   ]
  },
  {
   "cell_type": "markdown",
   "metadata": {},
   "source": [
    "#### f. Aşağıda tanımlı komutları kullanarak belge içerisine resim ve ses dosyası gizleyin."
   ]
  },
  {
   "cell_type": "code",
   "execution_count": 11,
   "metadata": {
    "collapsed": true
   },
   "outputs": [],
   "source": [
    "! echo \"Basit text dosyası\" > normal.txt"
   ]
  },
  {
   "cell_type": "code",
   "execution_count": 12,
   "metadata": {
    "collapsed": false
   },
   "outputs": [
    {
     "name": "stdout",
     "output_type": "stream",
     "text": [
      "\"Basit text dosyas�\" \n"
     ]
    }
   ],
   "source": [
    "! type normal.txt"
   ]
  },
  {
   "cell_type": "code",
   "execution_count": 13,
   "metadata": {
    "collapsed": false
   },
   "outputs": [
    {
     "name": "stdout",
     "output_type": "stream",
     "text": [
      " Volume in drive C is WINDOWS\n",
      " Volume Serial Number is 78BB-5711\n",
      "\n",
      " Directory of C:\\Users\\User\n",
      "\n",
      "13.12.2016  19:21                23 normal.txt\n",
      "               1 File(s)             23 bytes\n",
      "               0 Dir(s)  47.502.856.192 bytes free\n"
     ]
    }
   ],
   "source": [
    "! dir normal.txt"
   ]
  },
  {
   "cell_type": "code",
   "execution_count": 14,
   "metadata": {
    "collapsed": false
   },
   "outputs": [
    {
     "name": "stdout",
     "output_type": "stream",
     "text": [
      " Volume in drive C is WINDOWS\n",
      " Volume Serial Number is 78BB-5711\n",
      "\n",
      " Directory of C:\\Users\\User\n",
      "\n",
      "03.07.2016  04:03             5.326 resim.jpg\n",
      "               1 File(s)          5.326 bytes\n",
      "               0 Dir(s)  47.502.856.192 bytes free\n"
     ]
    }
   ],
   "source": [
    "! dir resim.jpg"
   ]
  },
  {
   "cell_type": "code",
   "execution_count": 15,
   "metadata": {
    "collapsed": false
   },
   "outputs": [
    {
     "name": "stdout",
     "output_type": "stream",
     "text": [
      "ÿØÿà\u0000\u0010JFIF\u0000\u0001\u0001\u0000\u0000\u0001\u0000\u0001\u0000\u0000ÿÛ\u0000„\u0000\t\u0006\u0007\b\u0007\u0006\t\b\u0007\b\n",
      "\n",
      "\t\u000b",
      "\n",
      "\u0016\u000f\n",
      "\f",
      "\f",
      "\n",
      "\u001b\u0014\u0015\u0010\u0016 \u001d",
      "\"\" \u001d",
      "\u001f\u001f$(4,$&1'\u001f\u001f-=-157:::#+?D?8C49:7\u0001\n",
      "\n",
      "\n",
      "\n",
      "\f",
      "\n",
      "\u001a\u000f\u000f\u001a7%\u001f%77777777777777777777777777777777777777777777777777ÿÀ\u0000\u0011\b\u0000Z\u0000 \u0003\u0001\u0011\u0000\u0002\u0011\u0001\u0003\u0011\u0001ÿÄ\u0000\u001b\u0000\u0000\u0002\u0003\u0001\u0001\u0001\u0000\u0000\u0000\u0000\u0000\u0000\u0000\u0000\u0000\u0000\u0005\u0006\u0002\u0003\u0004\u0007\u0001\u0000ÿÄ\u00005\u0010\u0000\u0001\u0003\u0003\u0002\u0004\u0005\u0003\u0004\u0001\u0003\u0005\u0000\u0000\u0000\u0000\u0001\u0002\u0003\u0004\u0000\u0005\u0011\u0012!\u0006\u00131A\u0014\"Qaq\u00152�#B‘¡R\u00073±\u0016$4CğÿÄ\u0000\u001a\u0001\u0000\u0003\u0001\u0001\u0001\u0001\u0000\u0000\u0000\u0000\u0000\u0000\u0000\u0000\u0000\u0000\u0003\u0004\u0005\u0002\u0001\u0006\u0000ÿÄ\u0000.\u0011\u0000\u0002\u0002\u0002\u0002\u0001\u0003\u0004\u0000\u0006\u0002\u0003\u0000\u0000\u0000\u0000\u0001\u0002\u0000\u0003\u0011!\u0004\u00121\u0005\u0013A\u0014\"2Q\u0015#3a±Áq�R‘¡ÿÚ\u0000\f",
      "\u0003\u0001\u0000\u0002\u0011\u0003\u0011\u0000?\u0000\u0007oO‰šRâ\bÂ·¯>\u001fÚYê¹\u001a\u0019�\u001aÏmŒ\u0010�A#\u0002‘7—i&Ë\f",
      "ºç\n",
      ")F�\u0013šËŞPÌÖç1\u0002ò´[¤jlã~Õg‡Êî0e~;‡\\\u0019�ëì¹\n",
      "id)~ø§\u001aÕ\u001e",
      "gÎª¾ ÈPg¹(ºğ9&”¶Äx Nw\u0019 ÅRÆ\u001d",
      "ÈÇ© %JgÖ\u0010&kô_\f",
      "�I8=1G\b\u0004\u00109„8ZÌ.\u001aTğ%>†—·�\u0001ê ¬³¨�²x.'‡ò´€qKµ®6\"Âã˜™s\u0013,\u000e(¶�M\u0003¾)¾'47ÚÑêïÎŒ\u0015'ˆ\u0015-9R°=\u0005U\n",
      "(§\\AÑ%¶ä¼(Šá1[Â±Œ¡ğ\u0019O-[ãÖ¾\u0000@-cõ\f",
      "[\u001d",
      "JÙ\u001c",
      "Ò:z×ÅF ,L\u0019µæYu²¤ã\u0015\u0003™S\u0017Ô\\ÅYëe™:I\u001bU�O¤ªnFæY¼\t\\‹ƒ\u001c",
      "’”‘œU>¢N\f",
      "s'a»°Ã¸8ë¹¨üú�r%�#\u0002±¿êL¸�¥Äâ¤ûdÇûˆ«ãáøĞYÆsFå.WRİÀõÜanïËO”Ô”R\f",
      "–É2I½)JëıÖ½²Óà±+‰¦)÷Ğ’v'z­Â¯¨Ìb¶ë¨Ûcµ±ôä¬ntö¯¬rL1c>�ÊÄ¢•5„v\"…¹¬ŒO¯kL\u0014‡S¸#q[ªÂ\u001b\u0013�{ˆ¯\"úÔå%9È\u001d",
      "�Z}óÖd/XéÃSÛe¤\u0014�\n",
      "yë»\u0007ÌRÑ“\u0018eqTxíaj\u0019Å\u0015m,¸\u0002/Ò)_8‚%Á•¤}ÕÊé´>a\u0006§/–î‰*\t>\\×¥§%w\u0019Kˆ\u0012’ã …# úÓ\u0001I™²ñ\u0018lKºK\u0007CeI\u001d",
      "ë-©Õä(\u0010„©W(+\bSG'Ò±ØM\u001bU£-¾rŒ\n",
      "od(�ö \u0014\u000eÑ+ˆ\u0000Å{”„»-JÎÕJ°\u0015q<åä³˜9å‚\u000eõ¬ÌªÊ!¾\u001a˜�¥a&ƒrö\u0011šI\u0011¬<…FÊ\u00143óSú\u000fÔk±”Áàû°wš±ŒoŠŸg%X`\têluo™lç\u0017\u0005ÂËû,zÒ¨�ö\"î€Já…Î^\u001bè\u000eæ‰íâ\f",
      ",×&Á\u0011`\u0017Ô3îhÈå<M…Ì#\u0011—áÆÄU•¡#¥\f",
      "ìæ\u001fGF\u000ew‰\u001c",
      "\u000b",
      "Sj@JÁßjû£\u0011™±X‚n\u0013œšt¸N“×4J«ÃdÍ\f",
      "x�¦\u001c",
      "$FÕúaCùª>F&}½Ïm²V­a€T„÷\u00152úw\u0014»\u000b",
      "\"ã«yÅ\u0005��¦º•`D\u001aÕ\u0007f\u000f�ÃŠ+Ñ°íšrºÉƒkÔEé\f",
      "8déPß8Ú¨V:�Í-�¿\u0018Éo´4¶\u0012·\u000esÚ¾ú�\u000e#C‚Ì3\u001f8Y¨Ñ\"à¤\u001aã\u0012ş$ûG¶pfçØ‹%õ+JGÍ/mO�@ıF%2 2ã:\u0019;ŸJQ\u0005ˆÛœ÷{j(]øfC!o4³�¸ÅWKu¸\u001f§\u0007qBI�ÂÊWš`\f",
      "‰“V5-úd—£‡”•\f",
      "î6¡¼*TDò$‰Ép²ÚT¼RÌ¢\u0010¬ì\u000eñƒXPm?ÍyÎÌ5‰èşŸç3œñ…ÁÉÓùŒ¤’{\n",
      "†š%¦9\u0003¨\u0000B|\tu�\u001c",
      "©‰¸B»\u0015WoL6~'\u0014\u0012ºŒ×\u000e\u001a‰rXy¹¤g°]`\u0000<N\u000b",
      "\u0018k\u0013Siƒc„Pä�áÇBrk\f",
      "\u0000�\u001d",
      "¬>';¸Èñ\u0017\u0007\u001d",
      "m\u0007J�v\u0015´\u001fnãŸ�¤\u001a\n",
      ")\t9ø¢¢�¸µ–\u0000u.W\u000eÜŞÊÚgÊGsC~m\n",
      "pL\"ò€\u00180œ™-Y­‚\u001a\u001bÄ�;çÖ˜F[FD�Í¼ö8‹°¥7\"B›V¢³ÜQJàIŒ\u001bÉ…\f",
      "�áËG\u0001`à+\u001d",
      "kŠÅv reÜ9Ãfç5J‘º\u0012{w¦=ÀÂ?Å$\u001c",
      "ÇWxV;q”–€N‘Xö�ó+ıUŠ<ÌO2!0�Ú²�™ª5ª…ÔóÜ«]ß&/™3Y}Õ­À¦ÏÛ�Õ°3\u0016:„ìòärÔë§\t\u001bîk6V¤nn¦`Ú„f\\¹±ˆ=\u000eß5)ìU8�‚®;8ÌIŸ\u001f2µ8ŞÄÓü{‘†3:xl­–ñ\u000b",
      "¾ë�Â\bTGR�8ÔSÒ�•0ÊµøÌ;Á–xjcœâ\u0001R·ÉïJÙæ#p\u0001§?ˆ™—\u0017Šc!j\u0004î{\n",
      "”QVU³˜•�˜Ç\u0017ƒg©¯\u0010\\o g\n",
      "Î?šùsú‰\u001fU\\ş:€îö‡›Ypº\u001aq#í§\u0012°Ë‘\b¼åc•‚ã^%!:Ró€\u000fCK·\u001d",
      "cëh\"jŒôÛ‹Á\f",
      "¥Ç”k‚�ğ Û˜µí�#��Å8~™ƒ­XİE@\u0001ù5+˜şËáÎ#•sxö'`aÈœ*ã\u000f%×Úi#9ò«4©õ\u0005èV'}•?á\u000f¨3\u0019‘äI\u0000u\u0015\f",
      "ög‹NeÄ¨DË›Ç\u001aAØW°ôï·�\u0004‹Ë$[¸µ\u001aÖä9Špº\n",
      "{b¨3äb\u0000Ú\bÄeá»li®®L³­–Î\u0012�óW|ûR|›Jı«>­;lÎ—\n",
      "ëcP?M “§ö€1@R�wæ6£Z€ß»–›ZZ=A\u0018Un‹Ú³ƒ±>\u0016²èÅëT\u000e*¸!ÇaÁçÃRˆIuÄ§ç\u00199«iÈQäÀÙAm¬(�\u0015¿(\u0002«K)W}O¦‹õuˆ\u001f¥°üE./—w²ÈL)Ì\">¡©!\n",
      "Ô\u0014>kïxX§¬-T\u0015°\u0006šUzC1YQNv\u0019Û5\tª%�ç·¨\u0000¾!‹D˜ó%¶êÙÕŒ\u001e",
      "”^-l­'ú¥Á*Äe¼^m¾\u001bÃºÎ•\u0011�Å>\\¬�Vl?l®Û>ŞÓ\te\u000b",
      "B\u0015Ğ'8¬›Fc-Æ·\u001d",
      "Œ^·^ pô×`Ü¡�Ÿöï2M_9ß4\u0005QŒù’²X’w#xâ§\u001f\u0018Jô·�’‘�Xf&|\u0001c\u0015î7UÊJˆF\u0015¤‚¥úV©cYÌj„\n",
      "à\u0019m•v\u0006m«ç5Î�¡Œ\u001e",
      "Õ—-�Ï[]\u0003A<BÜ)r�\u001d",
      "ÿ\u0000\u000eÃI@'î=«¶ršª\u000b",
      "\u0001¹\u0003�éÌyC\u0007í;�LÜÃ$\u0010®‡;×�~ïg¸Û1 Š«€0%\u0010¸¡w†\u0016ç•!\u000e­\u0001>Àã4ß>»\u0001\n",
      "ç:\u0006\n",
      "¬\u001d",
      "‰–åt,Ä}À5èAQN})z8İÜ\bÂª–\u001d",
      "¼Lú8xÃ\u0013å)*\u0005\u001aÔHÎ=ºÕzk}\"¹\u0007ô&ïãÖ\u0018–A�òft\\8aÕ¦?€q¾j|�Ö\u0002u�PE\u0012Ê-QØ9 yÜ\u001aWQ=J\u0001ÿ\u0000Qr\u0002Úµ¥øL¹”¡å\u0014\u0012j�GñÒŠå­Ã‘ñ'r¨\u0015XPx‘<D\u0015)È\u0005.!a9\n",
      "ì¡íD<Sí‹AÔ\u0012Œj\f",
      "¶Üä96[«uJd:\u0012Ò\u000fA�ôÅÕ*¢¨\u001bÆf\u000e\f",
      "è–\u000e1~İÃ\n",
      "}\u0010•-IRÎ”\u001c",
      "iH'â‰Æ@_£\u001c",
      "\bwÊ®@ÌÜ�0¸Ì†ÓñÌ@]Ò¤‡\u0012­:O¿\\ãÚ�a¥,5àëş?Äâ‡ \u001d",
      "AüIm�Äóc¼ûiPi\u0005$�Ù5\u0017™Íz1Ôù‡TŞL\\{…\u0014‰Å¶İÌd~M;é�¹‰İµ\u001fRö“\u0004noDeÚ™çEQPFä¨b®'\u0017Ú\u001a�Ô9\u000fÊ9�/—3qd¬ç˜Ÿñ\u0014\u001b\u0013¶¢ü.CÑd\u0005\u0003‰\f",
      "t¸ÛñÒá=\u0016Nâ…í�\u001e",
      "³‘e‡$Ê/3Õ5¥!IVRJ’¢z\u001fj^¥ê`–©.\u0019çŞg±\t\u000eaÅŸ¹]\u0010;šÏ$\n",
      "ÇhÇ\u001f�î>#ûÖxvXn>Ô5O}\u0004\u0005-Ñ¨\u000f|v©fÆ±ºç\u0012Õ\u001c",
      "j“È�[/±g\u001f\n",
      "&Ş\u0012µ\u000f')\u001aÒ~F3ıšËÑ�‚c`ÿ\u0000â`û½®4'Ñ:Şt�`mh\u001fnuu\u001e",
      "ÛWÕZÎ¦·ß÷™µrİ�êY\"àâ[YÉØ\u001aY)\u0004ˆ£.¢å¢üå¾\u0011kÁÈVV¥­iNzš©Èá‹Ÿ·a\u0011­Š\n",
      "©…~©â¡s‘¨%Ä\u001d",
      "”04 ãûvuıFĞ†\u0019Š’æ¼»\u001bh\u0004’€“U«©Vòa9.O\u001c",
      "Ô”Û“—\t\u0011S\u001b*SkÔ¥c\u0018ü×ÕĞ*Víó\u0005e¾ë(O‰{²\u0015õ\"\u0014O™\u0000ÿ\u0000t0ŸÊÔ\u000f¨\f",
      "Ø\u000fö•^RãO5%­”¤–óÿ\u0000ß4n)VR�ãÌ�Ú›9I…\u0015-$`¤oóŞ€ÎlrLÄ7oæ7b™\n",
      "Å-\u001au…`ã\u0019\u0015 JÚ¤G\bÊ˜&Õ\u00024«[Nİ&9€N\u001a\u000fiJ@$\f",
      "Sü�C¥…k\u001fî\n",
      "ªA\u0001Œobå–R¸Ë.%IÈ!YÈ¯?Ë Ú@#b<Š\u0000Ì•¡»”éëó–��ÉêOÀ«~š\u0005\u0014õÄ\u0013q½æÏÄ3pµ*|W\u001bmùM,$ùİG”Õ\u0001y\u001f\u0013§ÓÓ÷9›ÄÃ’¶U=l-\u0007JĞ–õjø ³o1vâ\u001aÛ®$­0á\u001b¢¥\\\":ˆ©\u0019Hq\u0007\n",
      "¡÷SàÀ_Çµ?% M¨à`õ¼ºåİ\u0002Z¿õ6ÖRŸ’NMGoST9U×ÿ\u0000e´ô£Œ3cü@\\8‰|?}{›„¼Êv=”3Ô{\u001ak”ëÈ¥Y>Lû…Ç4Üé`ø�¦\u000f2ï\u0011\u0012S\u0015q–àÜd`ûü|Ôf±\t×™¶±j8Îe\u001fôÄ”,­´°•`eÔ´\u0012£\\gr0'G*¡¼D[ë“—t6˜ì\u0000#!O+Ró¬%$ìàzÓ|*‘ëïŸ0�`eÈ\u0019˜�ì… ,²¼W}‘ñ4+o‘\"^p\u001d",
      "ÚPù\u0015÷µ:Õ6?\u0019$2ôâ#°…)K8ÂFH\u001fŠİi÷E-Í�Ä\u00192:¡<ãr\u0019-‚£¤,u\u0014Ód�BÒÊÕ€fQ%†ó¤¥#Ğm_\u0014fó\u000b",
      "šÔjg”Vâ›”ÚTS�\bÒ3’=(È˜\\\u0019/˜ÁœbjMÕÆ\u0000\u000f²ê2?rH¡}>NŒLƒó\u000b",
      "Xd4íÅ‰s\"­Ø­«PF@\u000b",
      "Pé×·zÒUÒ\u0007\u001b„¸ŠâÑz[ÈaHbF6\u0007¦Ø=+¥O`Â3Y\n",
      "£\u0003C³Ûßen;%†V\u0006R—P¥êöÏjËrl?2ÊzjªŒŒŸñ\tZ'®ÚúR Ú›\u0007\t\u0000e\u001bRWva‘\u001d",
      "^\"¨Á\u0011�Eâ\u0011\tv\u0010�™=JZ\u0019\u0003ã\u001fñBªûjü|õ:”‘¦Æ$`^•?™õI/††@H8$ü\u001e",
      "•è¸àX½Œó¾­Î<G\u0015Óçş\"ÅúÖÒ¥x»j–ãê?í�ò}Es–ˆ•ç8\u0010\u001e",
      "“ê7r9\u0000Z2~\b„Ç\u000eqTØ,´ôR¶\u0002r”­À\u0000\u0015*¼¾Ó3Ò_\u0019T‹\bß˜Ó\u001aß\u0005¿*YV?ÉF¼éw;1\u0013É´üÁ<Of€òP¸¨Bd �óŒŒô¦x¼‡\u0007¯ÄÀµó’c\f",
      "\u000b",
      "ÙŒÂ\u001bJ†\u0002E/S2dA2gr÷¸‰Ä´£«#\u001d",
      "¨şå˜ÄÀ¬fs\u001e",
      ".�\u001c",
      "u\u0012�pµ\u0012’{â�à)\u0000©•8�Ô˜¶¹�\u0001³ªÇÍR\b#†Æ�\u0012�WÜµ\u001fÍk ™\u00167î4pLç¡¾ëÈs–NÁg¨ø5ÀJ�Dù´½ØÆæëëh½:ËM ¾ ¼ù>(v;($Añø†£Úİ\tº/\u0003²”ê–ğSd·Ê\tÇµH»Ô\u0019\u001d",
      "\u0018Gä.HP16Éá{\u001c",
      "˜b'1ä8\u0011ËJ�½% \u001e",
      "İ©”õPTv\u001b\u0011\u0003Zï\u0002JÛş�ğìXN\"J¦Èq½Ç¶\u0003ğ\u0000¢\u001fP6oÄEÕ×Ä)aá«4\u0006TËò\u001c",
      "u\u0000ù5%$\u0001Û4ÿ\u0000\u001e",
      "å´dùŠ± Ï¸—‡ãÜ£\bĞ^i–È$şˆÛß\tÅ0T\u0019ªœ†ˆîğeÈ¶¥AI–”w\tÓ¨şM.j9Ô½_©¯‡ÔÁ\n",
      "Ã5ÇT‹Š•\u0001´«\u0019u'Qø\u0014Zø½¶fíõD¬avc;\b]­)M¦R$c\u0019Ê0¥{ÒœŸL;±O‰õ^°–}—.#D\b‘#â\\ÆZ~I\u001bäl=ª}6=+€uú’ù×¯&Îİq�ıÊcÃµ*õãÒÒR´¤€ØûA=ñëM×Ì6}�\u0015¨{LJk0Ã—\"\u000e3°ô¦Å�˜ÌAŸÄ/…)(À¨\tÇÈÜuX\u001f\u0010I¸:òÊ–¢OÍ\u001fÙUñ\u0019\u0003RŸ©¬\u0012œ“ƒë[ö\u0007™ÌI\u000b",
      "ƒ§÷�>k¾À0•ÕØÌ34JÒ—\u0015å\u0007=iş=\u001d",
      "w\u001e",
      "¯�\u0014æ\u000e™\t´§-\u001fî™ë\n",
      "PAne\u0007\u0006¾\u0002,Íƒ\u000b",
      "Ùî©b:šq â\u0015Xaƒ\u0019­ƒ\u0000AÁ…!]Á}´0ØBRsµ/È'¡�»\u001d",
      "\tc™Ò!Kná\u0015:—æÆ3P-¯·™\u0004ı§P%ÊÓ)2CÑß;n7­¥Š«Õ„ °|Æ+{«ğ!2q«\u0014\u000eãâ\n",
      "Ô\u0013©e¹Û{)Zå#R³¶û\n",
      "µÄ¾ºëß˜\u000f¢g9\u0013P¿Ú[Ám°•�‹\u0007¥3üB¸Oá�%õ¨�7ËÉ\u0004œ…Š:s*o\u0006+g\n",
      "Õò\"ï\u001aFwˆ[‹\u0006ØtÈBüÏŸÚ�ù¦*ä!8\u0006\f",
      "Ğé²5(?éó‘™\u000eG¸¸\u001c",
      "HÎ\bÛ5¦³ ƒ8ËŸ\u0010s“¥DuQ'\u001d",
      "+\u001f»±¨7RPÎ�ï+jMÂK¡«K\\×É\u001b¨à\n",
      "\u0015f´`Öœ\tÜ\u0013â}{~÷\u0014¡\u0013�†YQÂÔÊ³ıÓ\u0015rê°�†2‹\u0014^˜Vµ\u0012{Ó&¬\b\u001a\u000fÄ¬MÀ:78é\\ö¿r¥jHÔ¡&RP‰\u000f0´¡ât\u0012:âŒÕ\u00005\u0004,Ù\u0006IRˆI­U_Ì£C\u000032$È”éK ©_4Æ„Å¼‚%¯3.\u0019OˆI\u0001];×tfjäöÔÑ\u000eŞ‹¢KH\u0004:zP¬µ*\u001d",
      "š\u000b",
      "˜î0V\u0018_úyu�\u0013Ä¶ãE8Î�óS?‹RÇcPTò\n",
      "y�-M¸ÔÕ&@Ğ¤œ`ÓW•)•ÜiìgLÆHóŞŒ¯ÒY\u00158Ö\u001a*q6\u000e!¢·\u001e",
      "ô#Å\u0006`H=Ä\u0012\u001c",
      "\u001a\u001bê}+‹ÃQ³6\u0000Ìb¶ É·áÃç\"¸z�FE˜:‹ÓmS\u0010ù\bp”fŠ¶&6#!Éñ\n",
      "FK�GB\\VT;Ğ\u001d",
      "·¨M\u0019ºÑxhLp`\u0007\u000fZ†H‰ój%D8›Š×Üÿ\u00004ÿ\u0000c%\u0014Ä\u0003}¶·u–Ú•!\n",
      "+¦ã­-k®p`lÀ—[­ïX”¶U…¬î\u0016�â¡óĞ›1\u0018ãV]r\u0004¬B“”ôW‰m�÷/¿ãŞ˜ôş0f\u0005alşXñ9Ô”$s°�0µ\u000e�õêk\u0002FB{LQÀ×Ò³x\u0018–8Œ{G^\u001d",
      "m\u000e[•ÌBU§:u\f",
      "â¤ò‰\u0015ê}Èş¬Sâ$„Ëò€6ì)�\t%#•~2«\u0007şE4ñ{a>\">OÅ|�|ÊgáRDô`â�õ\u000fé˜íß„ë:Öa\u0000T£äõ¯$|Ä~g\"¿\u0012/ªÇùW­âÿ\u0000B8çùBloí 7˜\u0003âE]k£ÄÌÕi\u0000É\u0019\u0000î(W~3\u0011Ş\u000eÌíµKÎç\u0004ªa;ïF\u0011ºài«VŸ¸ÿ\u00004E\u001b�,\u0019i'êJ9Ş©Uñ1Éşœq`ÓR3ÍĞ\u0010…ºJÒ•\u0010z‘šHŒ±ÌJÏ3Q$ÏVN|½é\u0006İ¦\\âŒqÄó„ÉUéô¨å:NÇñT}0\u000fr+Êñ?ÿÙ\n"
     ]
    }
   ],
   "source": [
    "! type resim.jpg"
   ]
  },
  {
   "cell_type": "code",
   "execution_count": 16,
   "metadata": {
    "collapsed": false
   },
   "outputs": [],
   "source": [
    "! type resim.jpg > normal.txt:resim.jpg"
   ]
  },
  {
   "cell_type": "code",
   "execution_count": 17,
   "metadata": {
    "collapsed": false
   },
   "outputs": [
    {
     "name": "stdout",
     "output_type": "stream",
     "text": [
      " Volume in drive C is WINDOWS\n",
      " Volume Serial Number is 78BB-5711\n",
      "\n",
      " Directory of C:\\Users\\User\n",
      "\n",
      "13.12.2016  19:22                23 normal.txt\n",
      "               1 File(s)             23 bytes\n",
      "               0 Dir(s)  47.502.651.392 bytes free\n"
     ]
    }
   ],
   "source": [
    "! dir normal.txt"
   ]
  },
  {
   "cell_type": "code",
   "execution_count": 30,
   "metadata": {
    "collapsed": false
   },
   "outputs": [
    {
     "name": "stderr",
     "output_type": "stream",
     "text": [
      "The system cannot find the file .\\normal.txt:resim.jpg.\n"
     ]
    }
   ],
   "source": [
    "! start .\\normal.txt:resim.jpg "
   ]
  },
  {
   "cell_type": "code",
   "execution_count": 31,
   "metadata": {
    "collapsed": false
   },
   "outputs": [
    {
     "name": "stdout",
     "output_type": "stream",
     "text": [
      "ÿØÿà\n",
      "\u0010JFIF\n",
      "\u0001\u0001\n",
      "\n",
      "\u0001\n",
      "\u0001\n",
      "\n",
      "ÿÛ\n",
      "„\n",
      "        \u0006\u0007\b\u0007\u0006   \b\u0007\b\n",
      "\n",
      "        \u000b",
      "\n",
      "\u0016\u000f\n",
      "\f",
      "\f",
      "\n",
      "\u001b\u0014\u0015\u0010\u0016 \u001d",
      "\"\" \u001d",
      "\u001f\u001f$(4,$&1'\u001f\u001f-=-157:::#+?D?8C49:7\u0001\n",
      "\n",
      "\n",
      "\n",
      "\f",
      "\n",
      "\u001a\u000f\u000f\u001a7%\u001f%77777777777777777777777777777777777777777777777777ÿÀ\n",
      "\u0011\b\n",
      "Z\n",
      " \u0003\u0001\u0011\n",
      "\u0002\u0011\u0001\u0003\u0011\u0001ÿÄ\n",
      "\u001b\n",
      "\n",
      "\u0002\u0003\u0001\u0001\u0001\n",
      "\n",
      "\n",
      "\n",
      "\n",
      "\n",
      "\n",
      "\n",
      "\n",
      "\n",
      "\u0005\u0006\u0002\u0003\u0004\u0007\u0001\n",
      "ÿÄ\n",
      "5\u0010\n",
      "\u0001\u0003\u0003\u0002\u0004\u0005\u0003\u0004\u0001\u0003\u0005\n",
      "\n",
      "\n",
      "\n",
      "\u0001\u0002\u0003\u0004\n",
      "\u0005\u0011\u0012!\u0006\u00131A\u0014\"Qaq\u00152�#B‘¡R\u00073±\u0016$4CğÿÄ\n",
      "\u001a\u0001\n",
      "\u0003\u0001\u0001\u0001\u0001\n",
      "\n",
      "\n",
      "\n",
      "\n",
      "\n",
      "\n",
      "\n",
      "\n",
      "\n",
      "\u0003\u0004\u0005\u0002\u0001\u0006\n",
      "ÿÄ\n",
      ".\u0011\n",
      "\u0002\u0002\u0002\u0002\u0001\u0003\u0004\n",
      "\u0006\u0002\u0003\n",
      "\n",
      "\n",
      "\n",
      "\u0001\u0002\n",
      "\u0003\u0011!\u0004\u00121\u0005\u0013A\u0014\"2Q\u0015#3a±Áq�R‘¡ÿÚ\n",
      "\f",
      "\u0003\u0001\n",
      "\u0002\u0011\u0003\u0011\n",
      "?\n",
      "\u0007oO‰šRâ\bÂ·¯>\u001fÚYê¹\u001a\u0019�\u001aÏmŒ\u0010�A#\u0002‘7—i&Ë\f",
      "ºç\n",
      ")F�\u0013šËŞPÌÖç1\u0002ò´[¤jlã~Õg‡Êî0e~;‡\\\u0019�ëì¹\n",
      "id)~ø§\u001aÕ\u001e",
      "gÎª¾ ÈPg¹(ºğ9&”¶Äx Nw\u0019 ÅRÆ\u001d",
      "ÈÇ© %JgÖ\u0010&kô_\f",
      "�I8=1G\b\u0004\u00109„8ZÌ.\u001aTğ%>†—·�\u0001ê ¬³¨�²x.'‡ò´€qKµ®6\"Âã˜™s\u0013,\u000e(¶�M\u0003¾)¾'47ÚÑêïÎŒ\u0015'ˆ\u0015-9R°=\u0005U\n",
      "(§\\AÑ%¶ä¼(Šá1[Â±Œ¡ğ\u0019O-[ãÖ¾\n",
      "@-cõ\f",
      "[\u001d",
      "JÙ\u001c",
      "Ò:z×ÅF ,L\u0019µæYu²¤ã\u0015\u0003™S\u0017Ô\\ÅYëe™:I\u001bU�O¤ªnFæY¼    \\‹ƒ\u001c",
      "’”‘œU>¢N\f",
      "s'a»°Ã¸8ë¹¨üú�r%�#\u0002±¿êL¸�¥Äâ¤ûdÇûˆ«ãáøĞYÆsFå.WRİÀõÜanïËO”Ô”R\f",
      "–É2I½)JëıÖ½²Óà±+‰¦)÷Ğ’v'z­Â¯¨Ìb¶ë¨Ûcµ±ôä¬ntö¯¬rL1c>�ÊÄ¢•5„v\"…¹¬ŒO¯kL\u0014‡S¸#q[ªÂ\u001b\u0013�{ˆ¯\"úÔå%9È\u001d",
      "�Z}óÖd/XéÃSÛe¤\u0014�\n",
      "yë»\u0007ÌRÑ“\u0018eqTxíaj\u0019Å\u0015m,¸\u0002/Ò)_8‚%Á•¤}ÕÊé´>a\u0006§/–î‰*   >\\×¥§%w\u0019Kˆ\u0012’ã …# úÓ\u0001I™²ñ\u0018lKºK\u0007CeI\u001d",
      "ë-©Õä(\u0010„©W(+\bSG'Ò±ØM\u001bU£-¾rŒ\n",
      "od(�ö \u0014\u000eÑ+ˆ\n",
      "Å{”„»-JÎÕJ°\u0015q<åä³˜9å‚\u000eõ¬ÌªÊ!¾\u001a˜�¥a&ƒrö\u0011šI\u0011¬<…FÊ\u00143óSú\u000fÔk±”Áàû°wš±ŒoŠŸg%X`        êluo™lç\u0017\u0005ÂËû,zÒ¨�ö\"î€Já…Î^\u001bè\u000eæ‰íâ\f",
      ",×&Á\u0011`\u0017Ô3îhÈå<M…Ì#\u0011—áÆÄU•¡#¥\f",
      "ìæ\u001fGF\u000ew‰\u001c",
      "\u000b",
      "Sj@JÁßjû£\u0011™±X‚n\u0013œšt¸N“×4J«ÃdÍ\f",
      "x�¦\u001c",
      "$FÕúaCùª>F&}½Ïm²V­a€T„÷\u00152úw\u0014»\u000b",
      "\"ã«yÅ\u0005��¦º•`D\u001aÕ\u0007f\u000f�ÃŠ+Ñ°íšrºÉƒkÔEé\f",
      "8déPß8Ú¨V:�Í-�¿\u0018Éo´4¶\u0012·\u000esÚ¾ú�\u000e#C‚Ì3\u001f8Y¨Ñ\"à¤\u001aã\u0012ş$ûG¶pfçØ‹%õ+JGÍ/mO�@ıF%2 2ã:\u0019;ŸJQ\u0005ˆÛœ÷{j(]øfC!o4³�¸ÅWKu¸\u001f§\u0007qBI�ÂÊWš`\f",
      "‰“V5-úd—£‡”•\f",
      "î6¡¼*TDò$‰Ép²ÚT¼RÌ¢\u0010¬ì\u000eñƒXPm?ÍyÎÌ5‰èşŸç3œñ…ÁÉÓùŒ¤’{\n",
      "†š%¦9\u0003¨\n",
      "B|      u�\u001c",
      "©‰¸B»\u0015WoL6~'\u0014\u0012ºŒ×\u000e\u001a‰rXy¹¤g°]`\n",
      "<N\u000b",
      "\u0018k\u0013Siƒc„Pä�áÇBrk\f",
      "\n",
      "�\u001d",
      "¬>';¸Èñ\u0017\u0007\u001d",
      "m\u0007J�v\u0015´\u001fnãŸ�¤\u001a\n",
      ")      9ø¢¢�¸µ–\n",
      "u.W\u000eÜŞÊÚgÊGsC~m\n",
      "pL\"ò€\u00180œ™-Y­‚\u001a\u001bÄ�;çÖ˜F[FD�Í¼ö8‹°¥7\"B›V¢³ÜQJàIŒ\u001bÉ…\f",
      "�áËG\u0001`à+\u001d",
      "kŠÅv reÜ9Ãfç5J‘º\u0012{w¦=ÀÂ?Å$\u001c",
      "ÇWxV;q”–€N‘Xö�ó+ıUŠ<ÌO2!0�Ú²�™ª5ª…ÔóÜ«]ß&/™3Y}Õ­À¦ÏÛ�Õ°3\u0016:„ìòärÔë§        \u001bîk6V¤nn¦`Ú„f\\¹±ˆ=\u000eß5)ìU8�‚®;8ÌIŸ\u001f2µ8ŞÄÓü{‘†3:xl­–ñ\u000b",
      "¾ë�Â\bTGR�8ÔSÒ�•0ÊµøÌ;Á–xjcœâ\u0001R·ÉïJÙæ#p\u0001§?ˆ™—\u0017Šc!j\u0004î{\n",
      "”QVU³˜•�˜Ç\u0017ƒg©¯\u0010\\o g\n",
      "Î?šùsú‰\u001fU\\ş:€îö‡›Ypº\u001aq#í§\u0012°Ë‘\b¼åc•‚ã^%!:Ró€\u000fCK·\u001d",
      "cëh\"jŒôÛ‹Á\f",
      "¥Ç”k‚�ğ Û˜µí�#��Å8~™ƒ­XİE@\u0001ù5+˜şËáÎ#•sxö'`aÈœ*ã\u000f%×Úi#9ò«4©õ\u0005èV'}•?á\u000f¨3\u0019‘äI\n",
      "u\u0015\f",
      "ög‹NeÄ¨DË›Ç\u001aAØW°ôï·�\u0004‹Ë$[¸µ\u001aÖä9Špº\n",
      "{b¨3äb\n",
      "Ú\bÄeá»li®®L³­–Î\u0012�óW|ûR|›Jı«>­;lÎ—\n",
      "ëcP?M “§ö€1@R�wæ6£Z€ß»–›ZZ=A\u0018Un‹Ú³ƒ±>\u0016²èÅëT\u000e*¸!ÇaÁçÃRˆIuÄ§ç\u00199«iÈQäÀÙAm¬(�\u0015¿(\u0002«K)W}O¦‹õuˆ\u001f¥°üE./—w²ÈL)Ì\">¡©!\n",
      "Ô\u0014>kïxX§¬-T\u0015°\u0006šUzC1YQNv\u0019Û5      ª%�ç·¨\n",
      "¾!‹D˜ó%¶êÙÕŒ\u001e",
      "”^-l­'ú¥Á*Äe¼^m¾\u001bÃºÎ•\u0011�Å>\\¬�Vl?l®Û>ŞÓ      e\u000b",
      "B\u0015Ğ'8¬›Fc-Æ·\u001d",
      "Œ^·^ pô×`Ü¡�Ÿöï2M_9ß4\u0005QŒù’²X’w#xâ§\u001f\u0018Jô·�’‘�Xf&|\u0001c\u0015î7UÊJˆF\u0015¤‚¥úV©cYÌj„\n",
      "à\u0019m•v\u0006m«ç5Î�¡Œ\u001e",
      "Õ—-�Ï[]\u0003A<BÜ)r�\u001d",
      "ÿ\n",
      "\u000eÃI@'î=«¶ršª\u000b",
      "\u0001¹\u0003�éÌyC\u0007í;�LÜÃ$\u0010®‡;×�~ïg¸Û1 Š«€0%\u0010¸¡w†\u0016ç•!\u000e­\u0001>Àã4ß>»\u0001\n",
      "ç:\u0006\n",
      "¬\u001d",
      "‰–åt,Ä}À5èAQN})z8İÜ\bÂª–\u001d",
      "¼Lú8xÃ\u0013å)*\u0005\u001aÔHÎ=ºÕzk}\"¹\u0007ô&ïãÖ\u0018–A�òft\\8aÕ¦?€q¾j|�Ö\u0002u�PE\u0012Ê-QØ9 yÜ\u001aWQ=J\u0001ÿ\n",
      "Qr\u0002Úµ¥øL¹”¡å\u0014\u0012j�GñÒŠå­Ã‘ñ'r¨\u0015XPx‘<D\u0015)È\u0005.!a9\n",
      "ì¡íD<Sí‹AÔ\u0012Œj\f",
      "¶Üä96[«uJd:\u0012Ò\u000fA�ôÅÕ*¢¨\u001bÆf\u000e\f",
      "è–\u000e1~İÃ\n",
      "}\u0010•-IRÎ”\u001c",
      "iH'â‰Æ@_£\u001c",
      "\bwÊ®@ÌÜ�0¸Ì†ÓñÌ@]Ò¤‡\u0012­:O¿\\ãÚ�a¥,5àëş?Äâ‡ \u001d",
      "AüIm�Äóc¼ûiPi\u0005$�Ù5\u0017™Íz1Ôù‡TŞL\\{…\u0014‰Å¶İÌd~M;é�¹‰İµ\u001fRö“\u0004noDeÚ™çEQPFä¨b®'\u0017Ú\u001a�Ô9\u000fÊ9�/—3qd¬ç˜Ÿñ\u0014\u001b\u0013¶¢ü.CÑd\u0005\u0003‰\f",
      "t¸ÛñÒá=\u0016Nâ…í�\u001e",
      "³‘e‡$Ê/3Õ5¥!IVRJ’¢z\u001fj^¥ê`–©.\u0019çŞg±  \u000eaÅŸ¹]\u0010;šÏ$\n",
      "ÇhÇ\u001f�î>#ûÖxvXn>Ô5O}\u0004\u0005-Ñ¨\u000f|v©fÆ±ºç\u0012Õ\u001c",
      "j“È�[/±g\u001f\n",
      "&Ş\u0012µ\u000f')\u001aÒ~F3ıšËÑ�‚c`ÿ\n",
      "â`û½®4'Ñ:Şt�`mh\u001fnuu\u001e",
      "ÛWÕZÎ¦·ß÷™µrİ�êY\"àâ[YÉØ\u001aY)\u0004ˆ£.¢å¢üå¾\u0011kÁÈVV¥­iNzš©Èá‹Ÿ·a\u0011­Š\n",
      "©…~©â¡s‘¨%Ä\u001d",
      "”04 ãûvuıFĞ†\u0019Š’æ¼»\u001bh\u0004’€“U«©Vòa9.O\u001c",
      "Ô”Û“—    \u0011S\u001b*SkÔ¥c\u0018ü×ÕĞ*Víó\u0005e¾ë(O‰{²\u0015õ\"\u0014O™\n",
      "ÿ\n",
      "t0ŸÊÔ\u000f¨\f",
      "Ø\u000fö•^RãO5%­”¤–óÿ\n",
      "ß4n)VR�ãÌ�Ú›9I…\u0015-$`¤oóŞ€ÎlrLÄ7oæ7b™\n",
      "Å-\u001au…`ã\u0019\u0015 JÚ¤G\bÊ˜&Õ\u00024«[Nİ&9€N\u001a\u000fiJ@$\f",
      "Sü�C¥…k\u001fî\n",
      "ªA\u0001Œobå–R¸Ë.%IÈ!YÈ¯?Ë Ú@#b<Š\n",
      "Ì•¡»”éëó–��ÉêOÀ«~š\u0005\u0014õÄ\u0013q½æÏÄ3pµ*|W\u001bmùM,$ùİG”Õ\u0001y\u001f\u0013§ÓÓ÷9›ÄÃ’¶U=l-\u0007JĞ–õjø ³o1vâ\u001aÛ®$­0á\u001b¢¥\\\":ˆ©\u0019Hq\u0007\n",
      "¡÷SàÀ_Çµ?% M¨à`õ¼ºåİ\u0002Z¿õ6ÖRŸ’NMGoST9U×ÿ\n",
      "e´ô£Œ3cü@\\8‰|?}{›„¼Êv=”3Ô{\u001ak”ëÈ¥Y>Lû…Ç4Üé`ø�¦\u000f2ï\u0011\u0012S\u0015q–àÜd`ûü|Ôf±        ×™¶±j8Îe\u001fôÄ”,­´°•`eÔ´\u0012£\\gr0'G*¡¼D[ë“—t6˜ì\n",
      "#!O+Ró¬%$ìàzÓ|*‘ëïŸ0�`eÈ\u0019˜�ì… ,²¼W}‘ñ4+o‘\"^p\u001d",
      "ÚPù\u0015÷µ:Õ6?\u0019$2ôâ#°…)K8ÂFH\u001fŠİi÷E-Í�Ä\u00192:¡<ãr\u0019-‚£¤,u\u0014Ód�BÒÊÕ€fQ%†ó¤¥#Ğm_\u0014fó\u000b",
      "šÔjg”Vâ›”ÚTS�\bÒ3’=(È˜\\\u0019/˜ÁœbjMÕÆ\n",
      "\u000f²ê2?rH¡}>NŒLƒó\u000b",
      "Xd4íÅ‰s\"­Ø­«PF@\u000b",
      "Pé×·zÒUÒ\u0007\u001b„¸ŠâÑz[ÈaHbF6\u0007¦Ø=+¥O`Â3Y\n",
      "£\u0003C³Ûßen;%†V\u0006R—P¥êöÏjËrl?2ÊzjªŒŒŸñ   Z'®ÚúR Ú›\u0007      \n",
      "e\u001bRWva‘\u001d",
      "^\"¨Á\u0011�Eâ\u0011       v\u0010�™=JZ\u0019\u0003ã\u001fñBªûjü|õ:”‘¦Æ$`^•?™õI/††@H8$ü\u001e",
      "•è¸àX½Œó¾­Î<G\u0015Óçş\"ÅúÖÒ¥x»j–ãê?í�ò}Es–ˆ•ç8\u0010\u001e",
      "“ê7r9\n",
      "Z2~\b„Ç\u000eqTØ,´ôR¶\u0002r”­À\n",
      "\u0015*¼¾Ó3Ò_\u0019T‹\bß˜Ó\u001aß\u0005¿*YV?ÉF¼éw;1\u0013É´üÁ<Of€òP¸¨Bd �óŒŒô¦x¼‡\u0007¯ÄÀµó’c\f",
      "\u000b",
      "ÙŒÂ\u001bJ†\u0002E/S2dA2gr÷¸‰Ä´£«#\u001d",
      "¨şå˜ÄÀ¬fs\u001e",
      ".�\u001c",
      "u\u0012�pµ\u0012’{â�à)\n",
      "©•8�Ô˜¶¹�\u0001³ªÇÍR\b#†Æ�\u0012�WÜµ\u001fÍk ™\u00167î4pLç¡¾ëÈs–NÁg¨ø5ÀJ�Dù´½ØÆæëëh½:ËM ¾ ¼ù>(v;($Añø†£Úİ    º/\u0003²”ê–ğSd·Ê   ÇµH»Ô\u0019\u001d",
      "\u0018Gä.HP16Éá{\u001c",
      "˜b'1ä8\u0011ËJ�½% \u001e",
      "İ©”õPTv\u001b\u0011\u0003Zï\u0002JÛş�ğìXN\"J¦Èq½Ç¶\u0003ğ\n",
      "¢\u001fP6oÄEÕ×Ä)aá«4\u0006TËò\u001c",
      "u\n",
      "ù5%$\u0001Û4ÿ\n",
      "\u001e",
      "å´dùŠ± Ï¸—‡ãÜ£\bĞ^i–È$şˆÛß      Å0T\u0019ªœ†ˆîğeÈ¶¥AI–”w     Ó¨şM.j9Ô½_©¯‡ÔÁ\n",
      "Ã5ÇT‹Š•\u0001´«\u0019u'Qø\u0014Zø½¶fíõD¬avc;\b]­)M¦R$c\u0019Ê0¥{ÒœŸL;±O‰õ^°–}—.#D\b‘#â\\ÆZ~I\u001bäl=ª}6=+€uú’ù×¯&Îİq�ıÊcÃµ*õãÒÒR´¤€ØûA=ñëM×Ì6}�\u0015¨{LJk0Ã—\"\u000e3°ô¦Å�˜ÌAŸÄ/…)(À¨        ÇÈÜuX\u001f\u0010I¸:òÊ–¢OÍ\u001fÙUñ\u0019\u0003RŸ©¬\u0012œ“ƒë[ö\u0007™ÌI\u000b",
      "ƒ§÷�>k¾À0•ÕØÌ34JÒ—\u0015å\u0007=iş=\u001d",
      "w\u001e",
      "¯�\u0014æ\u000e™        ´§-\u001fî™ë\n",
      "PAne\u0007\u0006¾\u0002,Íƒ\u000b",
      "Ùî©b:šq â\u0015Xaƒ\u0019­ƒ\n",
      "AÁ…!]Á}´0ØBRsµ/È'¡�»\u001d",
      "   c™Ò!Kná\u0015:—æÆ3P-¯·™\u0004ı§P%ÊÓ)2CÑß;n7­¥Š«Õ„ °|Æ+{«ğ!2q«\u0014\u000eãâ\n",
      "Ô\u0013©e¹Û{)Zå#R³¶û\n",
      "µÄ¾ºëß˜\u000f¢g9\u0013P¿Ú[Ám°•�‹\u0007¥3üB¸Oá�%õ¨�7ËÉ\u0004œ…Š:s*o\u0006+g\n",
      "Õò\"ï\u001aFwˆ[‹\u0006ØtÈBüÏŸÚ�ù¦*ä!8\u0006\f",
      "Ğé²5(?éó‘™\u000eG¸¸\u001c",
      "HÎ\bÛ5¦³ ƒ8ËŸ\u0010s“¥DuQ'\u001d",
      "+\u001f»±¨7RPÎ�ï+jMÂK¡«K\\×É\u001b¨à\n",
      "\u0015f´`Öœ  Ü\u0013â}{~÷\u0014¡\u0013�†YQÂÔÊ³ıÓ\u0015rê°�†2‹\u0014^˜Vµ\u0012{Ó&¬\b\u001a\u000fÄ¬MÀ:78é\\ö¿r¥jHÔ¡&RP‰\u000f0´¡ât\u0012:âŒÕ\n",
      "5\u0004,Ù\u0006IRˆI­U_Ì£C\n",
      "32$È”éK ©_4Æ„Å¼‚%¯3.\u0019OˆI\u0001];×tfjäöÔÑ\u000eŞ‹¢KH\u0004:zP¬µ*\u001d",
      "š\u000b",
      "˜î0V\u0018_úyu�\u0013Ä¶ãE8Î�óS?‹RÇcPTò\n",
      "y�-M¸ÔÕ&@Ğ¤œ`ÓW•)•ÜiìgLÆHóŞŒ¯ÒY\u00158Ö\u001a*q6\u000e!¢·\u001e",
      "ô#Å\u0006`H=Ä\u0012\u001c",
      "\u001a\u001bê}+‹ÃQ³6\n",
      "Ìb¶ É·áÃç\"¸z�FE˜:‹ÓmS\u0010ù\bp”fŠ¶&6#!Éñ\n",
      "FK�GB\\VT;Ğ\u001d",
      "·¨M\u0019ºÑxhLp`\u0007\u000fZ†H‰ój%D8›Š×Üÿ\n",
      "4ÿ\n",
      "c%\u0014Ä\u0003}¶·u–Ú•!\n",
      "+¦ã­-k®p`lÀ—[­ïX”¶U…¬î\u0016�â¡óĞ›1\u0018ãV]r\u0004¬B“”ôW‰m�÷/¿ãŞ˜ôş0f\u0005alşXñ9Ô”$s°�0µ\u000e�õêk\u0002FB{LQÀ×Ò³x\u0018–8Œ{G^\u001d",
      "m\u000e[•ÌBU§:u\f",
      "â¤ò‰\u0015ê}Èş¬Sâ$„Ëò€6ì)�   %#•~2«\u0007şE4ñ{a>\">OÅ|�|ÊgáRDô`â�õ\u000fé˜íß„ë:Öa\n",
      "T£äõ¯$|Ä~g\"¿\u0012/ªÇùW­âÿ\n",
      "B8çùBloí 7˜\u0003âE]k£ÄÌÕi\n",
      "É\u0019\n",
      "î(W~3\u0011Ş\u000eÌíµKÎç\u0004ªa;ïF\u0011ºài«VŸ¸ÿ\n",
      "4E\u001b�,\u0019i'êJ9Ş©Uñ1Éşœq`ÓR3ÍĞ\u0010…ºJÒ•\u0010z‘šHŒ±ÌJÏ3Q$ÏVN|½é\u0006İ¦\\âŒqÄó„ÉUéô¨å:NÇñT}0\u000fr+Êñ?ÿÙ\n"
     ]
    }
   ],
   "source": [
    "! more < normal.txt:resim.jpg "
   ]
  },
  {
   "cell_type": "markdown",
   "metadata": {},
   "source": [
    "#### g. Aşağıda tanımlı komutları kullanarak gizli dosyayı silin."
   ]
  },
  {
   "cell_type": "code",
   "execution_count": 32,
   "metadata": {
    "collapsed": true
   },
   "outputs": [],
   "source": [
    "! ren belge.txt temp.txt"
   ]
  },
  {
   "cell_type": "code",
   "execution_count": 34,
   "metadata": {
    "collapsed": false
   },
   "outputs": [
    {
     "name": "stdout",
     "output_type": "stream",
     "text": [
      "\"Gizleyecek bir Ÿeyim yok.\"  \n"
     ]
    }
   ],
   "source": [
    "! type temp.txt    "
   ]
  },
  {
   "cell_type": "code",
   "execution_count": 35,
   "metadata": {
    "collapsed": false
   },
   "outputs": [
    {
     "name": "stdout",
     "output_type": "stream",
     "text": [
      " Volume in drive C is WINDOWS\n",
      " Volume Serial Number is 78BB-5711\n",
      "\n",
      " Directory of C:\\Users\\User\n",
      "\n",
      "13.12.2016  19:21                31 temp.txt\n",
      "               1 File(s)             31 bytes\n",
      "               0 Dir(s)  47.527.325.696 bytes free\n"
     ]
    }
   ],
   "source": [
    "! dir temp.txt    "
   ]
  },
  {
   "cell_type": "code",
   "execution_count": 33,
   "metadata": {
    "collapsed": true
   },
   "outputs": [],
   "source": [
    "! type temp.txt > belge.txt   "
   ]
  },
  {
   "cell_type": "code",
   "execution_count": 36,
   "metadata": {
    "collapsed": true
   },
   "outputs": [],
   "source": [
    "! del temp.txt"
   ]
  },
  {
   "cell_type": "code",
   "execution_count": 37,
   "metadata": {
    "collapsed": true
   },
   "outputs": [],
   "source": [
    "! %windir%\\system32\\notepad.exe belge.txt:gizlibelge.txt"
   ]
  },
  {
   "cell_type": "markdown",
   "metadata": {},
   "source": [
    "#### h. Aşağıda tanımlı komutları kullanarak klasöre gizli dosya ekleyin."
   ]
  },
  {
   "cell_type": "markdown",
   "metadata": {},
   "source": [
    "Gizlemek için;"
   ]
  },
  {
   "cell_type": "code",
   "execution_count": 38,
   "metadata": {
    "collapsed": true
   },
   "outputs": [],
   "source": [
    "! echo \"Klasör içinde gizli bilgi\" > :gizliDosya.dat "
   ]
  },
  {
   "cell_type": "markdown",
   "metadata": {},
   "source": [
    "Gizli belgeyi görüntülemek için;"
   ]
  },
  {
   "cell_type": "code",
   "execution_count": 39,
   "metadata": {
    "collapsed": false
   },
   "outputs": [
    {
     "name": "stdout",
     "output_type": "stream",
     "text": [
      "\"Klas”r i‡inde gizli bilgi\"  \n"
     ]
    }
   ],
   "source": [
    "! more < :gizliDosya.dat "
   ]
  },
  {
   "cell_type": "markdown",
   "metadata": {},
   "source": [
    "Gizli belgeyi ayrı bir dosyaya ayırmak için;"
   ]
  },
  {
   "cell_type": "code",
   "execution_count": 45,
   "metadata": {
    "collapsed": false
   },
   "outputs": [
    {
     "name": "stdout",
     "output_type": "stream",
     "text": [
      " Volume in drive C is WINDOWS\n",
      " Volume Serial Number is 78BB-5711\n",
      "\n",
      " Directory of C:\\Users\\User\n",
      "\n"
     ]
    },
    {
     "name": "stderr",
     "output_type": "stream",
     "text": [
      "File Not Found\n"
     ]
    }
   ],
   "source": [
    "! dir gizli.txt"
   ]
  },
  {
   "cell_type": "code",
   "execution_count": 46,
   "metadata": {
    "collapsed": false
   },
   "outputs": [],
   "source": [
    "! more < :gizliDosya.dat  > gizli.txt "
   ]
  },
  {
   "cell_type": "code",
   "execution_count": 47,
   "metadata": {
    "collapsed": false
   },
   "outputs": [
    {
     "name": "stdout",
     "output_type": "stream",
     "text": [
      " Volume in drive C is WINDOWS\n",
      " Volume Serial Number is 78BB-5711\n",
      "\n",
      " Directory of C:\\Users\\User\n",
      "\n",
      "13.12.2016  19:44                31 gizli.txt\n",
      "               1 File(s)             31 bytes\n",
      "               0 Dir(s)  47.525.498.880 bytes free\n"
     ]
    }
   ],
   "source": [
    "! dir gizli.txt"
   ]
  },
  {
   "cell_type": "code",
   "execution_count": 42,
   "metadata": {
    "collapsed": false
   },
   "outputs": [
    {
     "name": "stdout",
     "output_type": "stream",
     "text": [
      "\"Klas”r i‡inde gizli bilgi\"  \n"
     ]
    }
   ],
   "source": [
    "! type gizli.txt"
   ]
  },
  {
   "cell_type": "code",
   "execution_count": null,
   "metadata": {
    "collapsed": true
   },
   "outputs": [],
   "source": []
  },
  {
   "cell_type": "markdown",
   "metadata": {},
   "source": [
    "#### i. Harici programlar kullanarak ADS tespiti."
   ]
  },
  {
   "cell_type": "markdown",
   "metadata": {},
   "source": [
    "Bu amaçla : \n",
    "* AdsCheck, \n",
    "* Lads \n",
    "* LNS\n",
    "* Ads Spy \n",
    "* Sfind \n",
    "* Streams \n",
    "* Hijackthis \n",
    "* GMER\n",
    "* Visual ADS Detector \n",
    "\n",
    "programları kullanılabilir."
   ]
  }
 ],
 "metadata": {
  "celltoolbar": "Raw Cell Format",
  "kernelspec": {
   "display_name": "Python [default]",
   "language": "python",
   "name": "python3"
  },
  "language_info": {
   "codemirror_mode": {
    "name": "ipython",
    "version": 3
   },
   "file_extension": ".py",
   "mimetype": "text/x-python",
   "name": "python",
   "nbconvert_exporter": "python",
   "pygments_lexer": "ipython3",
   "version": "3.5.2"
  }
 },
 "nbformat": 4,
 "nbformat_minor": 1
}
